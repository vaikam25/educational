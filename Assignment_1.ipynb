{
 "cells": [
  {
   "cell_type": "markdown",
   "id": "d891b69d-236b-438a-b7c8-52ea96e1384e",
   "metadata": {},
   "source": [
    "Q1. Create one variable containing following type of data: \n"
   ]
  },
  {
   "cell_type": "code",
   "execution_count": 1,
   "id": "77aebdc8-3299-4af4-a72d-3ef30561af20",
   "metadata": {},
   "outputs": [],
   "source": [
    "string = \"Hi this is my string1\""
   ]
  },
  {
   "cell_type": "code",
   "execution_count": 2,
   "id": "87644c10-af2f-46f0-8db8-688c76f2aa34",
   "metadata": {},
   "outputs": [],
   "source": [
    "string2 = 'Hi this is my string2'"
   ]
  },
  {
   "cell_type": "code",
   "execution_count": null,
   "id": "1f30f321-f304-4d65-aa18-ca146ea8a5eb",
   "metadata": {},
   "outputs": [],
   "source": []
  },
  {
   "cell_type": "markdown",
   "id": "70ab09ba-5624-44f6-9865-fff19c2f5f00",
   "metadata": {},
   "source": [
    "Q2. Given are some following variables containing data: \n"
   ]
  },
  {
   "cell_type": "code",
   "execution_count": 12,
   "id": "8daf4d83-2f20-4769-addd-7b95e500cf33",
   "metadata": {},
   "outputs": [
    {
     "data": {
      "text/plain": [
       "str"
      ]
     },
     "execution_count": 12,
     "metadata": {},
     "output_type": "execute_result"
    }
   ],
   "source": [
    "var1 = ''\n",
    "type(var1)\n"
   ]
  },
  {
   "cell_type": "code",
   "execution_count": 14,
   "id": "af355d7f-4e7d-4bcc-aad5-e9b6df4f8a1c",
   "metadata": {},
   "outputs": [
    {
     "data": {
      "text/plain": [
       "list"
      ]
     },
     "execution_count": 14,
     "metadata": {},
     "output_type": "execute_result"
    }
   ],
   "source": [
    "var3 =['DS' , 'ML' , 'Python' ]\n",
    "type(var3)"
   ]
  },
  {
   "cell_type": "code",
   "execution_count": 15,
   "id": "905c0494-7992-4596-8264-d6e51edc0cce",
   "metadata": {},
   "outputs": [
    {
     "data": {
      "text/plain": [
       "str"
      ]
     },
     "execution_count": 15,
     "metadata": {},
     "output_type": "execute_result"
    }
   ],
   "source": [
    "var2 = '[DS , ML ,Python]'\n",
    "type(var2)"
   ]
  },
  {
   "cell_type": "code",
   "execution_count": 16,
   "id": "bcf6a812-313d-4256-b481-53c38d0ea99e",
   "metadata": {},
   "outputs": [
    {
     "data": {
      "text/plain": [
       "int"
      ]
     },
     "execution_count": 16,
     "metadata": {},
     "output_type": "execute_result"
    }
   ],
   "source": [
    "var4 = 1\n",
    "type(var4)"
   ]
  },
  {
   "cell_type": "code",
   "execution_count": null,
   "id": "b8091d0f-2dd3-4768-b359-ab9ba2c26907",
   "metadata": {},
   "outputs": [],
   "source": [
    "\n",
    "\n"
   ]
  },
  {
   "cell_type": "markdown",
   "id": "adfdab30-d5d7-4a34-b880-285fd754d240",
   "metadata": {},
   "source": [
    "Q3. Explain the use of the following operators using an example:\n",
    "(i) / - This operator is used to divide a number with seconf number \n",
    "\n",
    "\n",
    "(ii) %  - this is mod operator its gives the remainder after dividing its first number by its second number provided\n",
    "\n",
    "\n",
    "(iii) // - this is floor division operatoe it gives the integrer part ee get after we divide a number with second number\n",
    "\n",
    "\n",
    "(iv) ** - this operator is called exponention operator \n",
    "\n",
    "\n",
    "I have provided the examples below please refer that"
   ]
  },
  {
   "cell_type": "code",
   "execution_count": 17,
   "id": "c20e7b7d-d1f8-4d75-bb2f-a408ee2cb9b0",
   "metadata": {},
   "outputs": [
    {
     "name": "stdout",
     "output_type": "stream",
     "text": [
      "1\n"
     ]
    }
   ],
   "source": [
    "#example of % operator\n",
    "a  = 7\n",
    "b = 3\n",
    "c = a%b\n",
    "print(c)"
   ]
  },
  {
   "cell_type": "code",
   "execution_count": 18,
   "id": "8be7af77-25b4-4a8b-9e63-3d9829d35b79",
   "metadata": {},
   "outputs": [
    {
     "name": "stdout",
     "output_type": "stream",
     "text": [
      "2\n"
     ]
    }
   ],
   "source": [
    "#example of // operator\n",
    "a  = 7\n",
    "b = 3\n",
    "c = a//b\n",
    "print(c)"
   ]
  },
  {
   "cell_type": "code",
   "execution_count": 19,
   "id": "40c01660-2904-4cf0-a766-3fd72d66f787",
   "metadata": {},
   "outputs": [
    {
     "name": "stdout",
     "output_type": "stream",
     "text": [
      "343\n"
     ]
    }
   ],
   "source": [
    "# example of ** operator\n",
    "a  = 7\n",
    "b = 3\n",
    "c = a**b\n",
    "print(c)"
   ]
  },
  {
   "cell_type": "code",
   "execution_count": 20,
   "id": "782b1f3f-5392-4a30-a66b-5a11bbe33baa",
   "metadata": {},
   "outputs": [
    {
     "name": "stdout",
     "output_type": "stream",
     "text": [
      "2.3333333333333335\n"
     ]
    }
   ],
   "source": [
    "# example of / operator\n",
    "a  = 7\n",
    "b = 3\n",
    "c = a/b\n",
    "print(c)"
   ]
  },
  {
   "cell_type": "code",
   "execution_count": null,
   "id": "bf8becb5-71dc-4f4e-be73-12082f770334",
   "metadata": {},
   "outputs": [],
   "source": []
  },
  {
   "cell_type": "markdown",
   "id": "35259b94-dd11-4453-a2f8-c705db238d48",
   "metadata": {},
   "source": [
    "Q4. Create a list of length 10 of your choice containing multiple types of data. Using for loop print the  element and its data type. "
   ]
  },
  {
   "cell_type": "code",
   "execution_count": 30,
   "id": "4b7fdf4b-b83e-4a36-aa48-3e8b8e0d545c",
   "metadata": {},
   "outputs": [
    {
     "name": "stdout",
     "output_type": "stream",
     "text": [
      "[1, 2, 3.33, True, 'vaibhav', 10, 5, 6, False, 'Vai']\n"
     ]
    }
   ],
   "source": [
    "l = [1,2,3.33,True,'vaibhav',10,5,6,False,'Vai']\n",
    "\n",
    "print(l)\n"
   ]
  },
  {
   "cell_type": "code",
   "execution_count": 32,
   "id": "2a0130a5-54bd-46bc-b31e-1d3b70d41e7e",
   "metadata": {},
   "outputs": [
    {
     "name": "stdout",
     "output_type": "stream",
     "text": [
      "The element in list is 1 and its type is <class 'int'>\n",
      "The element in list is 2 and its type is <class 'int'>\n",
      "The element in list is 3.33 and its type is <class 'float'>\n",
      "The element in list is True and its type is <class 'bool'>\n",
      "The element in list is vaibhav and its type is <class 'str'>\n",
      "The element in list is 10 and its type is <class 'int'>\n",
      "The element in list is 5 and its type is <class 'int'>\n",
      "The element in list is 6 and its type is <class 'int'>\n",
      "The element in list is False and its type is <class 'bool'>\n",
      "The element in list is Vai and its type is <class 'str'>\n"
     ]
    }
   ],
   "source": [
    "for i in l:\n",
    "    print('The element in list is',i,'and its type is',type(i))"
   ]
  },
  {
   "cell_type": "code",
   "execution_count": null,
   "id": "34a838ca-2fee-4752-b5cd-8c95dfb3f2af",
   "metadata": {},
   "outputs": [],
   "source": []
  },
  {
   "cell_type": "markdown",
   "id": "468d3926-89bb-42f9-adb6-1a9efab04b63",
   "metadata": {},
   "source": [
    "Q5. Using a while loop, verify if the number A is purely divisible by number B and if so then how many  times it can be divisible."
   ]
  },
  {
   "cell_type": "code",
   "execution_count": 4,
   "id": "7a436f9d-85ba-4b4e-9e2d-3f194126faf5",
   "metadata": {},
   "outputs": [
    {
     "name": "stdin",
     "output_type": "stream",
     "text": [
      "Please enter valur for A: 55\n"
     ]
    },
    {
     "name": "stdout",
     "output_type": "stream",
     "text": [
      "Valur of A is : 55\n"
     ]
    },
    {
     "name": "stdin",
     "output_type": "stream",
     "text": [
      "Please enter valur for B: 55\n"
     ]
    },
    {
     "name": "stdout",
     "output_type": "stream",
     "text": [
      "Valur of B is : 55\n",
      "A is purely divisiblr by B\n"
     ]
    }
   ],
   "source": [
    "A = int(input('Please enter valur for A:'))\n",
    "print('Valur of A is :', A)\n",
    "B = int(input('Please enter valur for B:'))\n",
    "print('Valur of B is :', B)\n",
    "\n",
    "C = A%B\n",
    "\n",
    "while C==0:\n",
    "    print('A is purely divisiblr by B')\n",
    "    break\n",
    "    "
   ]
  },
  {
   "cell_type": "code",
   "execution_count": null,
   "id": "577c4806-fdf2-48a1-8a27-9860f2516c8b",
   "metadata": {},
   "outputs": [],
   "source": [
    "\n"
   ]
  },
  {
   "cell_type": "markdown",
   "id": "6bf409a8-b21f-4c3d-8e12-5b88c38d3fd4",
   "metadata": {},
   "source": [
    "Q6. Create a list containing 25 int type data. Using for loop and if-else condition print if the element is  divisible by 3 or not. \n",
    "\n"
   ]
  },
  {
   "cell_type": "code",
   "execution_count": 14,
   "id": "1e6d9a09-4b0d-4914-97bf-eaf9ffd97e15",
   "metadata": {},
   "outputs": [
    {
     "name": "stdout",
     "output_type": "stream",
     "text": [
      "The number  0 is divisible by 3\n",
      "The number  1 is not divisible by 3\n",
      "The number  2 is not divisible by 3\n",
      "The number  3 is divisible by 3\n",
      "The number  4 is not divisible by 3\n",
      "The number  5 is not divisible by 3\n",
      "The number  6 is divisible by 3\n",
      "The number  7 is not divisible by 3\n",
      "The number  8 is not divisible by 3\n",
      "The number  9 is divisible by 3\n",
      "The number  10 is not divisible by 3\n",
      "The number  11 is not divisible by 3\n",
      "The number  12 is divisible by 3\n",
      "The number  13 is not divisible by 3\n",
      "The number  14 is not divisible by 3\n",
      "The number  15 is divisible by 3\n",
      "The number  16 is not divisible by 3\n",
      "The number  17 is not divisible by 3\n",
      "The number  18 is divisible by 3\n",
      "The number  19 is not divisible by 3\n",
      "The number  20 is not divisible by 3\n",
      "The number  21 is divisible by 3\n",
      "The number  22 is not divisible by 3\n",
      "The number  23 is not divisible by 3\n",
      "The number  24 is divisible by 3\n",
      "The number  25 is not divisible by 3\n",
      "The number  26 is not divisible by 3\n",
      "The number  27 is divisible by 3\n",
      "The number  28 is not divisible by 3\n",
      "The number  29 is not divisible by 3\n"
     ]
    }
   ],
   "source": [
    "l = [0,1,2,3,4,5,6,7,8,9,10,11,12,13,14,15,16,17,18,19,20,21,22,23,24\n",
    "    ,25,26,27,28,29]\n",
    "\n",
    "for i in l:\n",
    "    if i%3==0:\n",
    "        print('The number ',i,'is divisible by 3')\n",
    "    else:\n",
    "        print('The number ',i,'is not divisible by 3')"
   ]
  },
  {
   "cell_type": "code",
   "execution_count": null,
   "id": "ec322e0f-b905-41c2-a1ca-87784b9cd6e4",
   "metadata": {},
   "outputs": [],
   "source": []
  },
  {
   "cell_type": "code",
   "execution_count": null,
   "id": "e4dce84d-8182-45fe-986e-d04de78ed7ae",
   "metadata": {},
   "outputs": [],
   "source": [
    "\n",
    "\n"
   ]
  },
  {
   "cell_type": "markdown",
   "id": "7cd7ce0e-6d9a-44e9-be9b-a2911be39c4c",
   "metadata": {},
   "source": [
    "Q7. What do you understand about mutable and immutable data types? Give examples for both showing  this property.\n",
    "\n",
    "\n",
    "mutable data types : Where wa can modify elements/values which are already present of the data type eg(list)\n",
    "in list we can modify the liat elements, wa can update the list elements using index.\n",
    "\n",
    "\n",
    "immutable data types : Where wa cannot modify elements/values which are already present of the data type eg(str)\n",
    "in str we cannot modify the str,yet wa can access the str using index.\n"
   ]
  },
  {
   "cell_type": "code",
   "execution_count": 16,
   "id": "09359a69-44bc-49a7-814e-57c1d7b8226e",
   "metadata": {},
   "outputs": [],
   "source": [
    "a = 'Vaibhav'"
   ]
  },
  {
   "cell_type": "code",
   "execution_count": 17,
   "id": "48aac48c-5538-4855-8c28-2e338b38b718",
   "metadata": {},
   "outputs": [
    {
     "data": {
      "text/plain": [
       "str"
      ]
     },
     "execution_count": 17,
     "metadata": {},
     "output_type": "execute_result"
    }
   ],
   "source": [
    "type(a)"
   ]
  },
  {
   "cell_type": "code",
   "execution_count": 18,
   "id": "d35d7067-8cf5-49ed-9d02-12b28bbe1bd0",
   "metadata": {},
   "outputs": [
    {
     "data": {
      "text/plain": [
       "'a'"
      ]
     },
     "execution_count": 18,
     "metadata": {},
     "output_type": "execute_result"
    }
   ],
   "source": [
    "a[5]"
   ]
  },
  {
   "cell_type": "code",
   "execution_count": 19,
   "id": "23b67805-f564-4112-b92f-ba6c1eeb2d21",
   "metadata": {},
   "outputs": [
    {
     "data": {
      "text/plain": [
       "'h'"
      ]
     },
     "execution_count": 19,
     "metadata": {},
     "output_type": "execute_result"
    }
   ],
   "source": [
    "a[4]"
   ]
  },
  {
   "cell_type": "code",
   "execution_count": 22,
   "id": "b0c14aec-2a38-427c-93bb-72f1cca0b8ba",
   "metadata": {},
   "outputs": [
    {
     "ename": "TypeError",
     "evalue": "'str' object does not support item assignment",
     "output_type": "error",
     "traceback": [
      "\u001b[0;31m---------------------------------------------------------------------------\u001b[0m",
      "\u001b[0;31mTypeError\u001b[0m                                 Traceback (most recent call last)",
      "Cell \u001b[0;32mIn[22], line 1\u001b[0m\n\u001b[0;32m----> 1\u001b[0m \u001b[43ma\u001b[49m\u001b[43m[\u001b[49m\u001b[38;5;241;43m4\u001b[39;49m\u001b[43m]\u001b[49m\u001b[38;5;241m=\u001b[39m\u001b[38;5;124m'\u001b[39m\u001b[38;5;124mk\u001b[39m\u001b[38;5;124m'\u001b[39m\n",
      "\u001b[0;31mTypeError\u001b[0m: 'str' object does not support item assignment"
     ]
    }
   ],
   "source": [
    "a[4]='k'"
   ]
  },
  {
   "cell_type": "code",
   "execution_count": 23,
   "id": "7f6d3817-a118-4edf-a10e-19fa93bd6697",
   "metadata": {},
   "outputs": [],
   "source": [
    "list1 = [5,6,7,'vaibhav',3.226]"
   ]
  },
  {
   "cell_type": "code",
   "execution_count": null,
   "id": "0c61356b-c1a3-4f21-b6be-7c842d18a871",
   "metadata": {},
   "outputs": [],
   "source": [
    "type(list)"
   ]
  }
 ],
 "metadata": {
  "kernelspec": {
   "display_name": "Python 3 (ipykernel)",
   "language": "python",
   "name": "python3"
  },
  "language_info": {
   "codemirror_mode": {
    "name": "ipython",
    "version": 3
   },
   "file_extension": ".py",
   "mimetype": "text/x-python",
   "name": "python",
   "nbconvert_exporter": "python",
   "pygments_lexer": "ipython3",
   "version": "3.10.8"
  }
 },
 "nbformat": 4,
 "nbformat_minor": 5
}
