{
 "cells": [
  {
   "cell_type": "markdown",
   "id": "36fd17c7-0adf-4208-83c6-c2f128f3d0da",
   "metadata": {},
   "source": [
    "Q1.How do you comment code in Python? What are the different types of comments?\n",
    "Ans - Comments play very crucial role in any programming languages as while collabrating in team we have to make sure each and every thing is clear to all the team members so while in absence of the actual programmer to understand what exactly what the code does then comments help us to understand that.\n",
    "In python, we can comment in the given code by adding '#' and then writing the comment.\n",
    "In Jupyter we can select the contenet we want to commit as code and simply press 'CTRL+/' the selected lines then committed as Comment\n",
    "\n",
    "There are 2 types of comments:\n",
    "1. Single line comment (#)\n",
    "2. Multiline comment (\"\"\"     \"\"\")\n",
    "\n",
    "Below I have gievn the example."
   ]
  },
  {
   "cell_type": "code",
   "execution_count": 2,
   "id": "fd947a4f-63e4-4e4e-a538-ea490b5c3a3e",
   "metadata": {},
   "outputs": [
    {
     "name": "stdout",
     "output_type": "stream",
     "text": [
      "12\n"
     ]
    }
   ],
   "source": [
    "#This is the example for single line comment\n",
    "\n",
    "a = 5\n",
    "b = 7 \n",
    "#Assigning the values to the varables\n",
    "\n",
    "c = a+b   #assigning addition value to new variable\n",
    "print(c)  #printing the value of c"
   ]
  },
  {
   "cell_type": "code",
   "execution_count": 3,
   "id": "682e7110-0f16-47b3-9c4e-20f9275992e0",
   "metadata": {},
   "outputs": [
    {
     "data": {
      "text/plain": [
       "' This is the example of multi line comment\\nin this way we can simply add comment without \\nadding # in each and every line'"
      ]
     },
     "execution_count": 3,
     "metadata": {},
     "output_type": "execute_result"
    }
   ],
   "source": [
    "\"\"\" This is the example of multi line comment\n",
    "in this way we can simply add comment without \n",
    "adding # in each and every line\"\"\"\n"
   ]
  },
  {
   "cell_type": "code",
   "execution_count": null,
   "id": "283a81ea-71e8-45cf-b130-e2777b94c799",
   "metadata": {},
   "outputs": [],
   "source": []
  },
  {
   "cell_type": "code",
   "execution_count": null,
   "id": "316c1090-9453-40d9-950e-82dc1a7a36bc",
   "metadata": {},
   "outputs": [],
   "source": []
  },
  {
   "cell_type": "code",
   "execution_count": null,
   "id": "cd71e82a-45b1-4765-87ae-d61c32d05984",
   "metadata": {},
   "outputs": [],
   "source": []
  },
  {
   "cell_type": "markdown",
   "id": "1dd8bef0-e354-407c-b4ab-bb471a3178ac",
   "metadata": {},
   "source": [
    "Q2. What are variables in Python? How do you declare and assign values to variables?\n"
   ]
  },
  {
   "cell_type": "markdown",
   "id": "3e568c8f-76ec-4939-b98e-7f3c03d615c5",
   "metadata": {},
   "source": [
    "A variable is basically and local/global address where a value which we needed recurringly / which we have to store as a refernce so tht we can access that value by just calling the variable.\n",
    "We assign any value to the variable by \"=\" \n",
    "A variable can be declared by us. It can be a numeric,alphabetical and alphanumeric. We are not allow to use pre-defined keywords as variables.\n",
    "eg.\n",
    "a=5\n",
    "here, value 5 is stored in the variable 'a'"
   ]
  },
  {
   "cell_type": "code",
   "execution_count": 6,
   "id": "570e21c8-0f9b-445a-a98e-dd004e1ffa80",
   "metadata": {},
   "outputs": [
    {
     "name": "stdout",
     "output_type": "stream",
     "text": [
      "12345\n"
     ]
    }
   ],
   "source": [
    "a = 12345\n",
    "print(a)"
   ]
  },
  {
   "cell_type": "code",
   "execution_count": null,
   "id": "d08d45da-d460-4168-97a2-de1390720abf",
   "metadata": {},
   "outputs": [],
   "source": []
  },
  {
   "cell_type": "code",
   "execution_count": null,
   "id": "a75dfd49-c4b2-4f0a-a10b-e51ad8b40326",
   "metadata": {},
   "outputs": [],
   "source": []
  },
  {
   "cell_type": "code",
   "execution_count": null,
   "id": "5452e271-a1fc-40b9-a7c3-d5e21d203194",
   "metadata": {},
   "outputs": [],
   "source": []
  },
  {
   "cell_type": "markdown",
   "id": "4ed3289a-a20c-4295-a226-8f00c9e78044",
   "metadata": {},
   "source": [
    "Q.3 How do you convert one data type to another in Python?"
   ]
  },
  {
   "cell_type": "markdown",
   "id": "b9305b67-d5dc-4b99-9dda-d7e50abd770b",
   "metadata": {},
   "source": [
    "Converting one type of datatype into another one is called \"TYPECASTING\"\n",
    "In this function we can convert str into int, int into str, etc\n",
    "for this we can convert it by methods given below"
   ]
  },
  {
   "cell_type": "code",
   "execution_count": 11,
   "id": "97a45ca8-f302-44bf-af26-af8fbb001c7b",
   "metadata": {},
   "outputs": [
    {
     "name": "stdout",
     "output_type": "stream",
     "text": [
      "123456\n",
      "<class 'str'>\n"
     ]
    }
   ],
   "source": [
    "a = 123456\n",
    "b = str(a)\n",
    "print(a)\n",
    "print(type(b))\n"
   ]
  },
  {
   "cell_type": "code",
   "execution_count": 17,
   "id": "d30912d8-b1b6-44a5-b0fd-2e92a4d741c8",
   "metadata": {},
   "outputs": [
    {
     "name": "stdout",
     "output_type": "stream",
     "text": [
      "before typecasting the variable , datatype of given variable is : <class 'float'>\n",
      "After typecasting the variable into string , datatype of given variable is : <class 'str'>\n",
      "After typecasting the variable into integer , datatype of given variable is : <class 'int'>\n"
     ]
    }
   ],
   "source": [
    "a1 = 3.1485\n",
    "print('before typecasting the variable , datatype of given variable is :',type(a1))\n",
    "\n",
    "a2= str(a1)\n",
    "print('After typecasting the variable into string , datatype of given variable is :',type(a2))\n",
    "\n",
    "a3= int(a1)\n",
    "print('After typecasting the variable into integer , datatype of given variable is :',type(a3))"
   ]
  },
  {
   "cell_type": "code",
   "execution_count": null,
   "id": "68bb708f-9e1a-4376-8b0d-352931624f19",
   "metadata": {},
   "outputs": [],
   "source": []
  },
  {
   "cell_type": "code",
   "execution_count": null,
   "id": "373a8004-a0e5-4dfb-9f0e-723c2ffda774",
   "metadata": {},
   "outputs": [],
   "source": []
  },
  {
   "cell_type": "code",
   "execution_count": null,
   "id": "8dd3b5ef-e606-4c49-a53f-d14ee3136597",
   "metadata": {},
   "outputs": [],
   "source": []
  },
  {
   "cell_type": "markdown",
   "id": "74c6d44d-3c73-4e98-a783-6f1507f2b007",
   "metadata": {},
   "source": [
    "Q4.How do you write and execute a Python script from the command line?"
   ]
  },
  {
   "cell_type": "markdown",
   "id": "b8e5dcd1-46e1-4e71-a30e-304eee78c039",
   "metadata": {},
   "source": [
    "By the help of Jupyter we are allow to write python scripts into the command line as it is quiet convinient as compare to most of the IDEs\n",
    "in Python3.x we are able to save the scripts into the .py extension and by pressing the run button we can execute the script into the CLI"
   ]
  },
  {
   "cell_type": "code",
   "execution_count": null,
   "id": "e83b1df8-8ae3-46be-ac4b-ae490c116d83",
   "metadata": {},
   "outputs": [],
   "source": []
  },
  {
   "cell_type": "code",
   "execution_count": null,
   "id": "c5787cc9-212e-4998-8c37-395d1e54b744",
   "metadata": {},
   "outputs": [],
   "source": []
  },
  {
   "cell_type": "code",
   "execution_count": null,
   "id": "11b38b4d-7db2-4ad5-9916-3d50ee0565e6",
   "metadata": {},
   "outputs": [],
   "source": []
  },
  {
   "cell_type": "markdown",
   "id": "a357780f-82a5-46cf-95b7-4dc829c11c22",
   "metadata": {},
   "source": [
    "Q.5 Given a list my_list = [1, 2, 3, 4, 5], write the code to slice the list and obtain the sub-list [2, 3]."
   ]
  },
  {
   "cell_type": "code",
   "execution_count": 23,
   "id": "dff67086-a249-4cba-8dab-2524d62ce3ca",
   "metadata": {},
   "outputs": [
    {
     "name": "stdout",
     "output_type": "stream",
     "text": [
      "before slicing the list we have our original list : [1, 2, 3, 4, 5]\n",
      "After slicing the list we have our Sublist as : [2, 3]\n"
     ]
    }
   ],
   "source": [
    "my_list = [1, 2, 3, 4, 5]\n",
    "print('before slicing the list we have our original list :',my_list)\n",
    "sub_list = my_list[1:3]\n",
    "print('After slicing the list we have our Sublist as :',sub_list)\n"
   ]
  },
  {
   "cell_type": "code",
   "execution_count": null,
   "id": "da645df9-6f9f-44a4-924f-4e91fd5d43f8",
   "metadata": {},
   "outputs": [],
   "source": []
  },
  {
   "cell_type": "code",
   "execution_count": null,
   "id": "b25ef858-58bb-4dfc-881a-b9d8ee4bb409",
   "metadata": {},
   "outputs": [],
   "source": []
  },
  {
   "cell_type": "code",
   "execution_count": null,
   "id": "0a0ea9ab-1742-4edc-b4c3-c67fa5709570",
   "metadata": {},
   "outputs": [],
   "source": []
  },
  {
   "cell_type": "markdown",
   "id": "21ce8c48-bedd-4133-a6c8-e41087ce5f97",
   "metadata": {},
   "source": [
    "Q6. What is a complex number in mathematics, and how is it represented in Python?"
   ]
  },
  {
   "cell_type": "markdown",
   "id": "95141ad9-098f-4ac8-94e1-67d65e8fd080",
   "metadata": {},
   "source": [
    "A complex number in the math is defined as combination of a real and imaginary numbers.\n",
    "in maths 'i' is defined as squareroot of -1 which is consider as imaginary part hence its called complex number.\n",
    "eg. 5+9i where 5 is real number and 9i is the imaginary number. \n",
    "\n",
    "In python we can also have complex numbers where in maths we can define imaginary part by 'i' but in python we can define as 'j'\n",
    "eg. 5+9j \n",
    "we can find the real part by  ' .real()' function and for imaginary numnber we can find by ' .imag()'function.\n",
    "\n",
    "i have provided the example below"
   ]
  },
  {
   "cell_type": "code",
   "execution_count": 32,
   "id": "b013b783-c780-4522-9dfc-ca507478163c",
   "metadata": {},
   "outputs": [
    {
     "name": "stdout",
     "output_type": "stream",
     "text": [
      "the datatype for thr a is : <class 'complex'>\n",
      "The given complex number have real part as: 75.0\n",
      "The given complex number have imaginary part as: 96.0\n"
     ]
    }
   ],
   "source": [
    "a = 75+96j\n",
    "print('the datatype for thr a is :',type(a))\n",
    "\n",
    "#we can derive real part by \n",
    "print('The given complex number have real part as:',a.real)\n",
    "\n",
    "#we can also can derive imaginary part as :\n",
    "print('The given complex number have imaginary part as:',a.imag)"
   ]
  },
  {
   "cell_type": "code",
   "execution_count": null,
   "id": "03646834-e7dc-4202-9fef-ce00c00ac967",
   "metadata": {},
   "outputs": [],
   "source": []
  },
  {
   "cell_type": "code",
   "execution_count": null,
   "id": "fc8d17f2-33fa-457b-8f12-183d2a7a236b",
   "metadata": {},
   "outputs": [],
   "source": []
  },
  {
   "cell_type": "code",
   "execution_count": null,
   "id": "f6508b46-1ff3-4ab9-809e-4ef8c6b24461",
   "metadata": {},
   "outputs": [],
   "source": []
  },
  {
   "cell_type": "markdown",
   "id": "c2523388-14e4-4ab7-ac33-f41dd72e63bb",
   "metadata": {},
   "source": [
    "Q7. What is the correct way to declare a variable named age and assign the value 25 to it?"
   ]
  },
  {
   "cell_type": "code",
   "execution_count": 33,
   "id": "b9cd39da-2553-4e38-840a-3a7f8049de5d",
   "metadata": {},
   "outputs": [
    {
     "name": "stdout",
     "output_type": "stream",
     "text": [
      "25\n"
     ]
    }
   ],
   "source": [
    "age = 25\n",
    "print(age)"
   ]
  },
  {
   "cell_type": "code",
   "execution_count": null,
   "id": "361e566d-23ff-4024-b4ca-09a1ed5323d2",
   "metadata": {},
   "outputs": [],
   "source": []
  },
  {
   "cell_type": "code",
   "execution_count": null,
   "id": "8665e4ad-f1e2-441d-9699-33566ac2d94a",
   "metadata": {},
   "outputs": [],
   "source": []
  },
  {
   "cell_type": "code",
   "execution_count": null,
   "id": "954763ac-0d3f-4073-b0b2-92daa30f0f21",
   "metadata": {},
   "outputs": [],
   "source": []
  },
  {
   "cell_type": "markdown",
   "id": "b77a99a5-1f9c-4bed-941e-7c241774208a",
   "metadata": {},
   "source": [
    "Q8. Declare a variable named price and assign the value 9.99 to it. What data type does this variable\n",
    "belong to?"
   ]
  },
  {
   "cell_type": "code",
   "execution_count": 34,
   "id": "0fd00751-8573-4eba-9da4-5e85c028aea2",
   "metadata": {},
   "outputs": [
    {
     "name": "stdout",
     "output_type": "stream",
     "text": [
      "Value of the given is : 9.99\n",
      "datatype of the given variable is : <class 'float'>\n"
     ]
    }
   ],
   "source": [
    "price = 9.99  #declaring the vaiable price and assigning the value 9.99 to it\n",
    "print('Value of the given is :', price)\n",
    "print('datatype of the given variable is :' , type(price))"
   ]
  },
  {
   "cell_type": "code",
   "execution_count": null,
   "id": "ca67da88-fadc-4991-9326-2c81f7cc6da9",
   "metadata": {},
   "outputs": [],
   "source": []
  },
  {
   "cell_type": "code",
   "execution_count": null,
   "id": "5a44405f-04a7-433a-9c01-db0ee2efaa65",
   "metadata": {},
   "outputs": [],
   "source": []
  },
  {
   "cell_type": "code",
   "execution_count": null,
   "id": "61583a75-181e-409e-93d7-516f23e83418",
   "metadata": {},
   "outputs": [],
   "source": []
  },
  {
   "cell_type": "markdown",
   "id": "0fa9cf5f-ceac-43d6-9777-4ebf1bdd3c86",
   "metadata": {},
   "source": [
    "Q9. Create a variable named name and assign your full name to it as a string. How would you print the\n",
    "value of this variable?"
   ]
  },
  {
   "cell_type": "code",
   "execution_count": 36,
   "id": "2c823ee5-c169-4460-be4b-29c4649563c7",
   "metadata": {},
   "outputs": [
    {
     "name": "stdout",
     "output_type": "stream",
     "text": [
      "Value of the given variable is =  Vaibhav Sampatrao Kamble\n"
     ]
    }
   ],
   "source": [
    "name = \"Vaibhav Sampatrao Kamble\"   #we have assigned variable name and provided value as my name\n",
    "print('Value of the given variable is = ',name)   #print the value of this variable"
   ]
  },
  {
   "cell_type": "code",
   "execution_count": null,
   "id": "bccb9d49-041c-4b19-8984-a03598b6975e",
   "metadata": {},
   "outputs": [],
   "source": []
  },
  {
   "cell_type": "code",
   "execution_count": null,
   "id": "5e28d8b0-aae4-46d3-ae2a-0a70acbc67d7",
   "metadata": {},
   "outputs": [],
   "source": []
  },
  {
   "cell_type": "code",
   "execution_count": null,
   "id": "544cebe7-1d73-48a3-8a0a-53d03cfc9101",
   "metadata": {},
   "outputs": [],
   "source": []
  },
  {
   "cell_type": "markdown",
   "id": "224b3969-3b2f-44b5-a05f-a022e1649f47",
   "metadata": {},
   "source": [
    "Q10. Given the string \"Hello, World!\", extract the substring \"World\"."
   ]
  },
  {
   "cell_type": "code",
   "execution_count": 39,
   "id": "302ed820-3acb-480f-9476-4d4c36cea636",
   "metadata": {},
   "outputs": [
    {
     "name": "stdout",
     "output_type": "stream",
     "text": [
      "Given string is = Hello, World!\n",
      "By slicing method we have extraced the substring World\n"
     ]
    }
   ],
   "source": [
    "s = \"Hello, World!\"\n",
    "print('Given string is =',s)\n",
    "sl = s[7:12]\n",
    "print('By slicing method we have extraced the substring',sl)"
   ]
  },
  {
   "cell_type": "code",
   "execution_count": null,
   "id": "aab1aae1-b1e5-4d13-bf81-2f1f769bd926",
   "metadata": {},
   "outputs": [],
   "source": []
  }
 ],
 "metadata": {
  "kernelspec": {
   "display_name": "Python 3 (ipykernel)",
   "language": "python",
   "name": "python3"
  },
  "language_info": {
   "codemirror_mode": {
    "name": "ipython",
    "version": 3
   },
   "file_extension": ".py",
   "mimetype": "text/x-python",
   "name": "python",
   "nbconvert_exporter": "python",
   "pygments_lexer": "ipython3",
   "version": "3.10.8"
  }
 },
 "nbformat": 4,
 "nbformat_minor": 5
}
